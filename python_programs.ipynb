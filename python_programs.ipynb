{
  "nbformat": 4,
  "nbformat_minor": 0,
  "metadata": {
    "colab": {
      "provenance": [],
      "authorship_tag": "ABX9TyOaRfilcuUT/RfITBXkZkh5",
      "include_colab_link": true
    },
    "kernelspec": {
      "name": "python3",
      "display_name": "Python 3"
    },
    "language_info": {
      "name": "python"
    }
  },
  "cells": [
    {
      "cell_type": "markdown",
      "metadata": {
        "id": "view-in-github",
        "colab_type": "text"
      },
      "source": [
        "<a href=\"https://colab.research.google.com/github/Ashu-123-maker/python_programs/blob/main/python_programs.ipynb\" target=\"_parent\"><img src=\"https://colab.research.google.com/assets/colab-badge.svg\" alt=\"Open In Colab\"/></a>"
      ]
    },
    {
      "cell_type": "code",
      "source": [
        "#Writing a  function to remove all the vowels from a given string and print it.\n",
        "def remove_vowels(string):\n",
        "    vowels = ['a', 'e', 'i', 'o', 'u', 'A', 'E', 'I', 'O', 'U']\n",
        "    empty = \"\"\n",
        "    for i in string:\n",
        "        if i not in vowels:\n",
        "            empty += i\n",
        "    return empty\n",
        "\n",
        "print(remove_vowels(\"dynamos\"))"
      ],
      "metadata": {
        "colab": {
          "base_uri": "https://localhost:8080/"
        },
        "id": "cKtVNKV_afk7",
        "outputId": "92c274db-957c-4913-f091-6e15ca5711ca"
      },
      "execution_count": 3,
      "outputs": [
        {
          "output_type": "stream",
          "name": "stdout",
          "text": [
            "dynms\n"
          ]
        }
      ]
    },
    {
      "cell_type": "code",
      "source": [
        "#Writing a function to print the list by removing the duplicate elements.\n",
        "def remove_duplicates(value):\n",
        "    empty = []\n",
        "    for i in value:\n",
        "        if i not in empty:\n",
        "            empty.append(i)\n",
        "    return empty\n",
        "\n",
        "print(remove_duplicates( [9, 3, 4, 9, 5, 1, 0, 4]))\n"
      ],
      "metadata": {
        "id": "fd0e3qRJdtDx",
        "colab": {
          "base_uri": "https://localhost:8080/"
        },
        "outputId": "75965a03-e366-48f5-bb47-a86cae939116"
      },
      "execution_count": 4,
      "outputs": [
        {
          "output_type": "stream",
          "name": "stdout",
          "text": [
            "[9, 3, 4, 5, 1, 0]\n"
          ]
        }
      ]
    },
    {
      "cell_type": "code",
      "source": [
        "#Writing a function to Calculate the Simple Interest whose Principal and Rate of Interest, Time are known.\n",
        "def simple_interest(p, t, r):\n",
        "    si = (p * t * r) / 100\n",
        "    return si\n",
        "\n",
        "print(simple_interest(1200, 5.5, 2))\n"
      ],
      "metadata": {
        "id": "Obz3iWo_dzxd",
        "colab": {
          "base_uri": "https://localhost:8080/"
        },
        "outputId": "40e31642-c78d-4e0b-b444-7462fa3f8b04"
      },
      "execution_count": 5,
      "outputs": [
        {
          "output_type": "stream",
          "name": "stdout",
          "text": [
            "132.0\n"
          ]
        }
      ]
    },
    {
      "cell_type": "code",
      "source": [
        "#Write a Function to concatenate 2 strings by removing the duplicates in them.(Case Insensitive)\n",
        "def concat_remove_duplicates(str1, str2):\n",
        "    string = str1 + str2\n",
        "    empty = \"\"\n",
        "\n",
        "    for i in string:\n",
        "        if i.lower() not in empty.lower():\n",
        "            empty += i\n",
        "    return empty\n",
        "\n",
        "print(concat_remove_duplicates(\"Asritha\", \"rapuri\"))\n",
        "\n"
      ],
      "metadata": {
        "id": "1Eb-_w4Pd-cJ",
        "colab": {
          "base_uri": "https://localhost:8080/"
        },
        "outputId": "c008f52d-9aed-4bf3-8fc9-3a7ec83db095"
      },
      "execution_count": 14,
      "outputs": [
        {
          "output_type": "stream",
          "name": "stdout",
          "text": [
            "Asrithpu\n"
          ]
        }
      ]
    }
  ]
}